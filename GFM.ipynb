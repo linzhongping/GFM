{
 "cells": [
  {
   "cell_type": "code",
   "execution_count": 1,
   "metadata": {},
   "outputs": [],
   "source": [
    "import os\n",
    "import math\n",
    "from sklearn.model_selection import train_test_split\n",
    "from sklearn.neighbors import kneighbors_graph\n",
    "import pandas as pd\n",
    "import jieba\n",
    "import re\n",
    "from tqdm import tqdm\n",
    "import numpy as np\n",
    "import seaborn as sns\n",
    "import matplotlib.pyplot as plt\n",
    "from matplotlib import style\n",
    "sns.set(style='white')\n",
    "style.use(\"fivethirtyeight\")"
   ]
  },
  {
   "cell_type": "code",
   "execution_count": 12,
   "metadata": {},
   "outputs": [],
   "source": [
    "# pytorch\n",
    "import torch\n",
    "import torch.nn as nn\n",
    "from torch.autograd import Variable\n",
    "from torch.utils.data import TensorDataset,DataLoader \n",
    "from torch.optim import Adam,SGD,RMSprop\n",
    "from torch.optim.lr_scheduler import CosineAnnealingLR\n",
    "import torch.nn.functional as F\n",
    "from torch.nn.init import xavier_uniform_, kaiming_normal_\n",
    "import time\n",
    "import gc"
   ]
  },
  {
   "cell_type": "code",
   "execution_count": 2,
   "metadata": {},
   "outputs": [],
   "source": [
    "from sklearn import metrics\n",
    "from utils import * \n",
    "import pickle as pkl\n",
    "datasets = ['mr','ohsumed','R8','R52','weibo_yiqing']\n",
    "d = 'mr'\n",
    "if d not in datasets:\n",
    "    print(\"error dataset\")\n",
    "else:\n",
    "    train_adj, train_feature, train_y, val_adj, val_feature, val_y, test_adj, test_feature, test_y = load_data(d)"
   ]
  },
  {
   "cell_type": "code",
   "execution_count": 3,
   "metadata": {
    "scrolled": true
   },
   "outputs": [
    {
     "name": "stderr",
     "output_type": "stream",
     "text": [
      "  7%|▋         | 451/6398 [00:00<00:01, 4508.91it/s]"
     ]
    },
    {
     "name": "stdout",
     "output_type": "stream",
     "text": [
      "loading training set\n"
     ]
    },
    {
     "name": "stderr",
     "output_type": "stream",
     "text": [
      "100%|██████████| 6398/6398 [00:01<00:00, 4910.90it/s]\n",
      "100%|██████████| 6398/6398 [00:01<00:00, 4896.65it/s]\n",
      "100%|██████████| 710/710 [00:00<00:00, 5499.68it/s]\n",
      "  0%|          | 0/710 [00:00<?, ?it/s]"
     ]
    },
    {
     "name": "stdout",
     "output_type": "stream",
     "text": [
      "loading validation set\n"
     ]
    },
    {
     "name": "stderr",
     "output_type": "stream",
     "text": [
      "100%|██████████| 710/710 [00:00<00:00, 8025.21it/s]\n",
      " 20%|██        | 717/3554 [00:00<00:00, 7158.76it/s]"
     ]
    },
    {
     "name": "stdout",
     "output_type": "stream",
     "text": [
      "loading test set\n"
     ]
    },
    {
     "name": "stderr",
     "output_type": "stream",
     "text": [
      "100%|██████████| 3554/3554 [00:00<00:00, 5460.40it/s]\n",
      "100%|██████████| 3554/3554 [00:00<00:00, 6347.54it/s]\n"
     ]
    }
   ],
   "source": [
    "print('loading training set')\n",
    "train_adj, train_mask = preprocess_adj(train_adj)\n",
    "train_feature = preprocess_features(train_feature)\n",
    "print('loading validation set')\n",
    "val_adj, val_mask = preprocess_adj(val_adj)\n",
    "val_feature = preprocess_features(val_feature)\n",
    "print('loading test set')\n",
    "test_adj, test_mask = preprocess_adj(test_adj)\n",
    "test_feature = preprocess_features(test_feature)"
   ]
  },
  {
   "cell_type": "code",
   "execution_count": 8,
   "metadata": {},
   "outputs": [
    {
     "data": {
      "text/plain": [
       "((6398, 44, 44), (6398, 44, 300), (6398, 2))"
      ]
     },
     "execution_count": 8,
     "metadata": {},
     "output_type": "execute_result"
    }
   ],
   "source": [
    "train_adj.shape,train_feature.shape,train_y.shape"
   ]
  },
  {
   "cell_type": "code",
   "execution_count": 15,
   "metadata": {},
   "outputs": [],
   "source": [
    "train_adj = torch.Tensor(train_adj)\n",
    "train_feature = torch.Tensor(train_feature)\n",
    "train_y = torch.LongTensor(train_y)\n",
    "\n",
    "val_adj = torch.Tensor(val_adj)\n",
    "val_feature = torch.Tensor(val_feature)\n",
    "val_y = torch.LongTensor(val_y)\n",
    "\n",
    "test_adj = torch.Tensor(test_adj)\n",
    "test_feature = torch.Tensor(test_feature)\n",
    "test_y = torch.LongTensor(test_y)"
   ]
  },
  {
   "cell_type": "code",
   "execution_count": 10,
   "metadata": {},
   "outputs": [],
   "source": [
    "# split mini-batch\n",
    "def getBatch(i, bs, A, X, Y):\n",
    "    return A[i*bs:(i+1)*bs],X[i*bs:(i+1)*bs],Y[i*bs:(i+1)*bs]"
   ]
  },
  {
   "cell_type": "code",
   "execution_count": 9,
   "metadata": {},
   "outputs": [],
   "source": [
    "# parameters\n",
    "lr = 0.001\n",
    "batch_size =32\n",
    "epochs = 200\n",
    "weight_decay = 1e-6\n",
    "\n",
    "num_class = train_y.shape[1]\n",
    "train_sampels = train_y.shape[0]\n",
    "test_samples = test_y.shape[0]\n",
    "val_samples = val_y.shape[0]"
   ]
  },
  {
   "cell_type": "code",
   "execution_count": 13,
   "metadata": {},
   "outputs": [],
   "source": [
    "# GFM-GC model \n",
    "from layers import GraphConvolution\n",
    "class GFMGC(nn.Module):\n",
    "    def __init__(self, num_class, input_dim):\n",
    "        super(GFMGC,self).__init__()\n",
    "        \n",
    "        self.num_class = num_class\n",
    "        self.input_dim = input_dim\n",
    "    \n",
    "    def cal_gfm(self,x,adj):# x-[bs,seq,emb_size]  adj:[bs,seq,seq]\n",
    "        # get_edges \n",
    "        \n",
    "        pairs = torch.nonzero(adj) # [  [b,  source,target]...]\n",
    "        torch.gather(pairs,dim=1,index)\n",
    "        return pairs\n",
    "    def reset_parameters(self):\n",
    "        pass\n",
    "        \n",
    "    def forward(self,x,adj,mask):# x:[bs,seq,emb_size]  adj:[bs,seq,seq]\n",
    "        print(self.cal_gfm(x,adj))"
   ]
  },
  {
   "cell_type": "code",
   "execution_count": 16,
   "metadata": {},
   "outputs": [
    {
     "name": "stdout",
     "output_type": "stream",
     "text": [
      "tensor([[   0,    0,    5],\n",
      "        [   0,    0,   16],\n",
      "        [   0,    0,   21],\n",
      "        ...,\n",
      "        [6397,   36,   20],\n",
      "        [6397,   36,   21],\n",
      "        [6397,   36,   24]])\n"
     ]
    }
   ],
   "source": [
    "model = GFMGC(num_class = num_class, input_dim = 300)\n",
    "output = model(train_feature, train_adj,train_mask)"
   ]
  },
  {
   "cell_type": "code",
   "execution_count": null,
   "metadata": {},
   "outputs": [],
   "source": []
  }
 ],
 "metadata": {
  "kernelspec": {
   "display_name": "Python 3",
   "language": "python",
   "name": "python3"
  },
  "language_info": {
   "codemirror_mode": {
    "name": "ipython",
    "version": 3
   },
   "file_extension": ".py",
   "mimetype": "text/x-python",
   "name": "python",
   "nbconvert_exporter": "python",
   "pygments_lexer": "ipython3",
   "version": "3.7.0"
  }
 },
 "nbformat": 4,
 "nbformat_minor": 4
}
